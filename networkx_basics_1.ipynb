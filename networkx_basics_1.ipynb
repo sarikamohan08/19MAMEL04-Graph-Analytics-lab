{
  "nbformat": 4,
  "nbformat_minor": 0,
  "metadata": {
    "colab": {
      "provenance": []
    },
    "kernelspec": {
      "name": "python3",
      "display_name": "Python 3"
    },
    "language_info": {
      "name": "python"
    }
  },
  "cells": [
    {
      "cell_type": "code",
      "execution_count": null,
      "metadata": {
        "id": "waW7H7T7AtH4"
      },
      "outputs": [],
      "source": [
        "import os"
      ]
    },
    {
      "cell_type": "code",
      "source": [
        "import networkx as nx\n",
        "G=nx.Graph()\n",
        "len(G)"
      ],
      "metadata": {
        "colab": {
          "base_uri": "https://localhost:8080/"
        },
        "id": "PUhzjQBqAxfd",
        "outputId": "93ded42a-017f-49b4-e476-dd7fd4a9c1e4"
      },
      "execution_count": null,
      "outputs": [
        {
          "output_type": "execute_result",
          "data": {
            "text/plain": [
              "0"
            ]
          },
          "metadata": {},
          "execution_count": 2
        }
      ]
    },
    {
      "cell_type": "markdown",
      "source": [
        "Adding nodes"
      ],
      "metadata": {
        "id": "oFyqaNmTBHnG"
      }
    },
    {
      "cell_type": "code",
      "source": [
        "G.add_node(1)\n",
        "G.nodes"
      ],
      "metadata": {
        "colab": {
          "base_uri": "https://localhost:8080/"
        },
        "id": "p4Cmlvm1BEYX",
        "outputId": "7432d1ff-0a83-41f2-9004-48f4ef69baa7"
      },
      "execution_count": null,
      "outputs": [
        {
          "output_type": "execute_result",
          "data": {
            "text/plain": [
              "NodeView((1,))"
            ]
          },
          "metadata": {},
          "execution_count": 4
        }
      ]
    },
    {
      "cell_type": "code",
      "source": [
        "nx.draw(G)"
      ],
      "metadata": {
        "colab": {
          "base_uri": "https://localhost:8080/",
          "height": 319
        },
        "id": "NdPrW7GkBOot",
        "outputId": "42b5810a-1c78-49ff-b6ee-216d9ac125ca"
      },
      "execution_count": null,
      "outputs": [
        {
          "output_type": "display_data",
          "data": {
            "text/plain": [
              "<Figure size 432x288 with 1 Axes>"
            ],
            "image/png": "[encoded data removed]"
          },
          "metadata": {}
        }
      ]
    },
    {
      "cell_type": "code",
      "source": [
        "G.add_nodes_from([2,3,4,5])\n",
        "G.nodes\n",
        "nx.draw(G)"
      ],
      "metadata": {
        "colab": {
          "base_uri": "https://localhost:8080/",
          "height": 319
        },
        "id": "mt3y2TUKBW3N",
        "outputId": "b6ff6241-9ce2-46f8-d2d0-d98fbb864dbf"
      },
      "execution_count": null,
      "outputs": [
        {
          "output_type": "display_data",
          "data": {
            "text/plain": [
              "<Figure size 432x288 with 1 Axes>"
            ],
            "image/png": "[encoded data removed]"
          },
          "metadata": {}
        }
      ]
    },
    {
      "cell_type": "markdown",
      "source": [
        "Adding edges"
      ],
      "metadata": {
        "id": "DAFkzRIXBrHS"
      }
    },
    {
      "cell_type": "code",
      "source": [
        "G.add_edge(1,2)\n",
        "nx.draw(G)"
      ],
      "metadata": {
        "colab": {
          "base_uri": "https://localhost:8080/",
          "height": 319
        },
        "id": "rRrBQwmJBiz5",
        "outputId": "cc6bdc4c-2f44-446e-8424-a9bf65a9a725"
      },
      "execution_count": null,
      "outputs": [
        {
          "output_type": "display_data",
          "data": {
            "text/plain": [
              "<Figure size 432x288 with 1 Axes>"
            ],
            "image/png": "[encoded data removed]"
          },
          "metadata": {}
        }
      ]
    },
    {
      "cell_type": "code",
      "source": [
        "G.edges"
      ],
      "metadata": {
        "colab": {
          "base_uri": "https://localhost:8080/"
        },
        "id": "j-qwtUZUBzLN",
        "outputId": "4085b567-920b-4c19-b1b2-3c715509c44a"
      },
      "execution_count": null,
      "outputs": [
        {
          "output_type": "execute_result",
          "data": {
            "text/plain": [
              "EdgeView([(1, 2)])"
            ]
          },
          "metadata": {},
          "execution_count": 8
        }
      ]
    },
    {
      "cell_type": "code",
      "source": [
        "G.add_edges_from([(1,3),(2,4),(1,4)])\n",
        "G.edges"
      ],
      "metadata": {
        "colab": {
          "base_uri": "https://localhost:8080/"
        },
        "id": "dWwDMKBQB3p3",
        "outputId": "44db7a3a-3d66-4575-f3f6-25d0e5cb574d"
      },
      "execution_count": null,
      "outputs": [
        {
          "output_type": "execute_result",
          "data": {
            "text/plain": [
              "EdgeView([(1, 2), (1, 3), (1, 4), (2, 4)])"
            ]
          },
          "metadata": {},
          "execution_count": 9
        }
      ]
    },
    {
      "cell_type": "code",
      "source": [
        "nx.draw(G)"
      ],
      "metadata": {
        "colab": {
          "base_uri": "https://localhost:8080/",
          "height": 319
        },
        "id": "GWCJpcHVCYf4",
        "outputId": "011a081d-c98a-44d4-e18a-dbceff8432f1"
      },
      "execution_count": null,
      "outputs": [
        {
          "output_type": "display_data",
          "data": {
            "text/plain": [
              "<Figure size 432x288 with 1 Axes>"
            ],
            "image/png": "[encoded data removed]"
          },
          "metadata": {}
        }
      ]
    },
    {
      "cell_type": "markdown",
      "source": [
        "Removing Nodes and Edges"
      ],
      "metadata": {
        "id": "8hL9m0jaCgK4"
      }
    },
    {
      "cell_type": "code",
      "source": [
        "G.remove_edge(1,3)"
      ],
      "metadata": {
        "id": "FQcQ_-apCcyA"
      },
      "execution_count": null,
      "outputs": []
    },
    {
      "cell_type": "code",
      "source": [
        "nx.draw(G)"
      ],
      "metadata": {
        "colab": {
          "base_uri": "https://localhost:8080/",
          "height": 319
        },
        "id": "mTagqaGgCvI2",
        "outputId": "0a6e505d-0a3f-40b1-ca06-555428d19012"
      },
      "execution_count": null,
      "outputs": [
        {
          "output_type": "display_data",
          "data": {
            "text/plain": [
              "<Figure size 432x288 with 1 Axes>"
            ],
            "image/png": "[encoded data removed]"
          },
          "metadata": {}
        }
      ]
    },
    {
      "cell_type": "code",
      "source": [
        "G.remove_node(1)"
      ],
      "metadata": {
        "id": "m70YkeaUCxZU"
      },
      "execution_count": null,
      "outputs": []
    },
    {
      "cell_type": "code",
      "source": [
        "nx.draw(G)"
      ],
      "metadata": {
        "colab": {
          "base_uri": "https://localhost:8080/",
          "height": 319
        },
        "id": "wESElAxiC9Hg",
        "outputId": "04c334fd-0c5a-4ac1-f806-f1f0ad3aca32"
      },
      "execution_count": null,
      "outputs": [
        {
          "output_type": "display_data",
          "data": {
            "text/plain": [
              "<Figure size 432x288 with 1 Axes>"
            ],
            "image/png": "[encoded data removed]"
          },
          "metadata": {}
        }
      ]
    },
    {
      "cell_type": "code",
      "source": [],
      "metadata": {
        "id": "vTMpjPP9D-VS"
      },
      "execution_count": null,
      "outputs": []
    },
    {
      "cell_type": "markdown",
      "source": [
        "Graph properties\n",
        "\n",
        "1.   G.nodes- view of the nodes/vertices in the graph\n",
        "2.   G.edges- view of the edges  in the graph\n",
        "3.   G.adj - view of the neighbours that exist in the graph\n",
        "4.   G.degree - view of the degree of the nodes in the graph\n",
        "\n"
      ],
      "metadata": {
        "id": "2Pt0wdaWDWQC"
      }
    },
    {
      "cell_type": "code",
      "source": [],
      "metadata": {
        "id": "B5BsCH-aC_Jt"
      },
      "execution_count": null,
      "outputs": []
    }
  ]
}